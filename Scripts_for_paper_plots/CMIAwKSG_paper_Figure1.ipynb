{
 "cells": [
  {
   "cell_type": "markdown",
   "metadata": {},
   "source": [
    "### FIGURE 1: Jupyter notebook with final plots for the method paper"
   ]
  },
  {
   "cell_type": "code",
   "execution_count": 3,
   "metadata": {},
   "outputs": [],
   "source": [
    "import numpy as np\n",
    "import matplotlib\n",
    "from matplotlib import pyplot as plt\n",
    "from scipy import spatial\n",
    "\n",
    "# Configure some Matplotlib settings.\n",
    "fontSize = 20\n",
    "matplotlib.rcParams.update({\n",
    "    \"axes.formatter.limits\": (-4,4),\n",
    "    \"svg.fonttype\" : \"none\",\n",
    "    \"pdf.fonttype\": 42,\n",
    "    \"font.family\": \"sans-serif\",\n",
    "    \"font.sans-serif\": \"DejaVu Sans\",  # Changed from \"Helvetica\" to \"DejaVu Sans\"\n",
    "    \"font.size\": fontSize,\n",
    "    \"axes.titlesize\": fontSize,\n",
    "    \"xtick.labelsize\": fontSize,\n",
    "    \"ytick.labelsize\": fontSize,\n",
    "    # 'text.usetex':True, 'text.latex.preamble':[r'\\usepackage{sansmath}', r'\\sansmath']\n",
    "})\n",
    "plotStyles = {\"markersize\":8, \"markeredgewidth\":1.0, \"linewidth\":3.0}\n",
    "stepStyles = {\"markersize\":20, \"markeredgewidth\":3.0, \"linewidth\":3.0, \"where\":\"post\"}\n",
    "barStyles = {\"width\":0.65, \"linewidth\":0, \"align\":\"center\"}"
   ]
  },
  {
   "cell_type": "code",
   "execution_count": null,
   "metadata": {},
   "outputs": [],
   "source": [
    "# Preparing data for plot\n",
    "np.random.seed(13)  # CHANGE ME IF NEEDED\n",
    "correlation = 0.6\n",
    "Ntot = 64\n",
    "bins = int(np.floor(Ntot**(1/2)))\n",
    "covs = [[1, correlation], [correlation, 1]]\n",
    "m = np.random.multivariate_normal([0,0], covs, Ntot).T\n",
    "H, xedges, yedges = np.histogram2d(m[0], m[1], bins=bins)\n",
    "H_ap, xedges_ap, yedges_ap = np.histogram2d(m[0], m[1], bins=Ntot)\n",
    "        \n",
    "    \n",
    "# Plotting\n",
    "matplotlib.rcParams.update({\"figure.figsize\": (10, 5.5)})\n",
    "fig, ax = plt.subplots(1, 2, sharey=True)\n",
    "\n",
    "# Fixed width binning\n",
    "ax[0].set_title(f'Fixed width binning (#bins={bins})')\n",
    "ax[0].scatter(m[0], m[1])\n",
    "for line in xedges:\n",
    "    ax[0].axvline(x=line, color='k')\n",
    "for line in yedges:\n",
    "    ax[0].axhline(y=line, color='k')\n",
    "\n",
    "# k-Nearest Neighbor\n",
    "k_max = 10\n",
    "pts = np.c_[m[0].ravel(), m[1].ravel()]\n",
    "tree = spatial.KDTree(pts)\n",
    "tree_x = spatial.KDTree(np.c_[m[0]])\n",
    "tree_y = spatial.KDTree(np.c_[m[1]])\n",
    "distance_array, pts_locations = tree.query(pts, k_max+1, p=2) #p=2 # Euclidean distance, #p=np.inf #Chebchenko\n",
    "\n",
    "k_plot = 1\n",
    "ax[1].set_title(f'k-Nearest Neighbor (k={k_plot})')\n",
    "ax[1].scatter(m[0], m[1])\n",
    "for point in range(pts_locations.shape[0]):\n",
    "    cir = plt.Circle(pts[pts_locations[point][0]], distance_array[point][k_plot], color='r', ls='-.', fill=False)\n",
    "    ax[1].add_patch(cir)\n",
    "\n",
    "# Formatting the subplots\n",
    "for axii in ax:\n",
    "    axii.set_yticks([])\n",
    "    axii.set_xticks([])\n",
    "    axii.set_yticklabels([])\n",
    "    axii.set_xticklabels([])\n",
    "    axii.set_ylim(min(m[1]), max(m[1]))\n",
    "    axii.set_xlim(min(m[0]), max(m[0]))\n",
    "\n",
    "plt.tight_layout()\n",
    "\n",
    "plt.figtext(0.0, 0.91, \"A\", {'ha':'left', 'va':'top', 'fontsize':20, 'fontweight':'bold'})\n",
    "plt.figtext(0.49, 0.91, \"B\", {'ha':'left', 'va':'top', 'fontsize':20, 'fontweight':'bold'})\n",
    "\n",
    "plt.savefig('Figure1_illustration_FB_and_kNN.pdf', dpi = 300, bbox_inches='tight')"
   ]
  }
 ],
 "metadata": {
  "kernelspec": {
   "display_name": ".venv",
   "language": "python",
   "name": "python3"
  },
  "language_info": {
   "codemirror_mode": {
    "name": "ipython",
    "version": 3
   },
   "file_extension": ".py",
   "mimetype": "text/x-python",
   "name": "python",
   "nbconvert_exporter": "python",
   "pygments_lexer": "ipython3",
   "version": "3.10.11"
  }
 },
 "nbformat": 4,
 "nbformat_minor": 2
}
