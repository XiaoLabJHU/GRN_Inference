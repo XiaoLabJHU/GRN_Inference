{
 "cells": [
  {
   "cell_type": "markdown",
   "metadata": {},
   "source": [
    "### FIGURE 6: Jupyter notebook with final plots for the method paper"
   ]
  },
  {
   "cell_type": "code",
   "execution_count": 1,
   "metadata": {},
   "outputs": [],
   "source": [
    "import os\n",
    "import numpy as np\n",
    "import matplotlib\n",
    "from matplotlib import pyplot as plt\n",
    "\n",
    "# Configure some Matplotlib settings.\n",
    "fontSize = 20\n",
    "matplotlib.rcParams.update({\n",
    "    \"axes.formatter.limits\": (-4,4),\n",
    "    \"svg.fonttype\" : \"none\",\n",
    "    \"pdf.fonttype\": 42,\n",
    "    \"font.family\": \"sans-serif\",\n",
    "    \"font.sans-serif\": \"DejaVu Sans\",  # Changed from \"Helvetica\" to \"DejaVu Sans\"\n",
    "    \"font.size\": fontSize,\n",
    "    \"axes.titlesize\": fontSize,\n",
    "    \"xtick.labelsize\": fontSize,\n",
    "    \"ytick.labelsize\": fontSize,\n",
    "    # 'text.usetex':True, 'text.latex.preamble':[r'\\usepackage{sansmath}', r'\\sansmath']\n",
    "})\n",
    "plotStyles = {\"markersize\":8, \"markeredgewidth\":1.0, \"linewidth\":3.0}\n",
    "stepStyles = {\"markersize\":20, \"markeredgewidth\":3.0, \"linewidth\":3.0, \"where\":\"post\"}\n",
    "barStyles = {\"width\":0.65, \"linewidth\":0, \"align\":\"center\"}"
   ]
  },
  {
   "cell_type": "code",
   "execution_count": 2,
   "metadata": {},
   "outputs": [],
   "source": [
    "# Load data\n",
    "path_to_data = os.path.expanduser('../DATA/MI_comparison_FB_vs_KNN/')\n",
    "\n",
    "# input_fname = f\"Time_array_{mi_quantity_to_calc}_{mi_est}{bins_or_neighbors}_50genes_100to1k_perturb_fast.txt\"\n",
    "time_array_MI2_FB = np.loadtxt(os.path.join(path_to_data, \"Time_array_MI2_Shannon31_50genes_100to1k_perturb_fast.txt\"))\n",
    "time_array_MI2_KL1 = np.loadtxt(os.path.join(path_to_data, \"Time_array_MI2_KL1_50genes_100to1k_perturb_fast.txt\"))\n",
    "time_array_MI2_KSG1 = np.loadtxt(os.path.join(path_to_data, \"Time_array_MI2_KSG1_50genes_100to1k_perturb_fast.txt\"))\n",
    "time_array_TC_FB = np.loadtxt(os.path.join(path_to_data, \"Time_array_TC_Shannon31_50genes_100to1k_perturb_fast.txt\"))\n",
    "time_array_TC_KL1 = np.loadtxt(os.path.join(path_to_data, \"Time_array_TC_KL1_50genes_100to1k_perturb_fast.txt\"))\n",
    "time_array_TC_KSG1 = np.loadtxt(os.path.join(path_to_data, \"Time_array_TC_KSG1_50genes_100to1k_perturb_fast.txt\"))"
   ]
  },
  {
   "cell_type": "code",
   "execution_count": null,
   "metadata": {},
   "outputs": [],
   "source": [
    "# Combinning the two plots of time vs data size for MI and TC\n",
    "matplotlib.rcParams.update({\"figure.figsize\": (12, 6)})\n",
    "\n",
    "Ntot_list = [100, 250, 500, 1000]\n",
    "\n",
    "plt.subplot(121)\n",
    "plt.plot(Ntot_list, time_array_MI2_FB, marker=\"o\")\n",
    "plt.plot(Ntot_list, time_array_MI2_KL1, marker=\"^\")\n",
    "plt.plot(Ntot_list, time_array_MI2_KSG1, marker=\"s\")\n",
    "# OOptional: plt.semilogy(Ntot_list,time_array_MI2_FB,Ntot_list,time_array_MI2_KL1,Ntot_list,time_array_MI2_KSG1)\n",
    "plt.ylabel('Time [sec]')\n",
    "plt.xlabel(\"data size\")\n",
    "plt.title(\"MI calc. time for 50 gene network\")\n",
    "plt.legend([\"ML_Sq\", \"KL1\", \"KSG1\"])\n",
    "\n",
    "plt.subplot(122)\n",
    "plt.plot(Ntot_list, time_array_TC_FB, marker=\"o\")\n",
    "plt.plot(Ntot_list, time_array_TC_KL1, marker=\"^\")\n",
    "plt.plot(Ntot_list, time_array_TC_KSG1, marker=\"s\")\n",
    "plt.xlabel(\"data size\")\n",
    "plt.title(\"TC calc. time for 50 gene network\")\n",
    "plt.legend([\"ML_Sq\", \"KL1\", \"KSG1\"])\n",
    "\n",
    "plt.tight_layout()\n",
    "\n",
    "plt.figtext(0.03, 0.915, \"A\", {'ha':'left', 'va':'top', 'fontsize':20, 'fontweight':'bold'})\n",
    "plt.figtext(0.49, 0.915, \"B\", {'ha':'left', 'va':'top', 'fontsize':20, 'fontweight':'bold'})\n",
    "\n",
    "plt.savefig('Figure6_calc_time_vs_data_size.pdf', dpi=300, bbox_inches='tight')"
   ]
  }
 ],
 "metadata": {
  "kernelspec": {
   "display_name": ".venv",
   "language": "python",
   "name": "python3"
  },
  "language_info": {
   "codemirror_mode": {
    "name": "ipython",
    "version": 3
   },
   "file_extension": ".py",
   "mimetype": "text/x-python",
   "name": "python",
   "nbconvert_exporter": "python",
   "pygments_lexer": "ipython3",
   "version": "3.10.11"
  }
 },
 "nbformat": 4,
 "nbformat_minor": 2
}
