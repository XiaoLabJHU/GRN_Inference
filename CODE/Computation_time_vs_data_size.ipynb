{
 "cells": [
  {
   "cell_type": "code",
   "execution_count": null,
   "metadata": {},
   "outputs": [],
   "source": [
    "### Computation time vs. data size with an expression matrix (genes X conditions)"
   ]
  },
  {
   "cell_type": "code",
   "execution_count": 3,
   "metadata": {},
   "outputs": [],
   "source": [
    "import sys\n",
    "import os\n",
    "import numpy as np\n",
    "import time\n",
    "import math"
   ]
  },
  {
   "cell_type": "code",
   "execution_count": 4,
   "metadata": {},
   "outputs": [],
   "source": [
    "# Add the folder path of the scripts & modules to the sys.path list\n",
    "path_to_code = os.path.expanduser('~/Dropbox/Roberts/CODE_rsync/')\n",
    "sys.path.append(path_to_code)\n",
    "\n",
    "import Building_MI_matrices as Building_MI_matrices_mod"
   ]
  },
  {
   "cell_type": "code",
   "execution_count": 5,
   "metadata": {},
   "outputs": [],
   "source": [
    "def time_array_per_MIestimator_and_MIquantity(mi_est,MI_quantity_to_calc):\n",
    "    np.random.seed(13)  ### CHANGE ME IF NEEDED\n",
    "\n",
    "    ### constants initialization\n",
    "    MI_matrix_fname = \"MI_matrix.dat\"\n",
    "    Ntot_list = [100,250,500,1000] # list of vector sizes equivalent to a single gene expression profile with Ntot conditions/perturbations\n",
    "    #Ntot_list = [50, 100] # debug\n",
    "    time_array = np.zeros(len(Ntot_list),dtype=float)\n",
    "    \n",
    "    ### We make a list with number of bins to be used corresponding to the different Ntot size\n",
    "    if mi_est == \"Shannon\":\n",
    "        bins_or_neighbors_list = list(map(lambda Ntot: math.floor(Ntot ** (1/2)), Ntot_list))\n",
    "    elif mi_est == \"KSG\" or mi_est == \"KL\":\n",
    "        bins_or_neighbors_list = [1 for x in range(len(Ntot_list))]\n",
    "\n",
    "\n",
    "    ### Generate \"gene expression\" matrix for 50 gemes amd upto 1000 conditions/perturbations\n",
    "    m = np.random.normal(8, 1.5, size=(50, 1000))\n",
    "    #print(m.shape,np.max(m),np.min(m),m[0][:100]) # debug\n",
    "\n",
    "    ### Build MI matrix and save time to build matrix in time_array\n",
    "    for n,Ntot in enumerate(Ntot_list):\n",
    "        input1_data_array = m[:,:Ntot]\n",
    "        bins_or_neighbors = bins_or_neighbors_list[n]\n",
    "        \n",
    "        t1 = time.time()\n",
    "        \n",
    "        if MI_quantity_to_calc == \"MI2\":\n",
    "                Building_MI_matrices_mod.MI2_matrix_build(MI_matrix_fname,input1_data_array,bins_or_neighbors,mi_est)\n",
    "        \n",
    "        elif MI_quantity_to_calc == \"TC\":\n",
    "            if mi_est == \"KSG\":\n",
    "                Building_MI_matrices_mod.TC_KSG_matrix_build(MI_matrix_fname,input1_data_array,bins_or_neighbors,mi_est)\n",
    "            elif mi_est == \"KL\":\n",
    "                Building_MI_matrices_mod.TC_KL_matrix_build(MI_matrix_fname,input1_data_array,bins_or_neighbors,mi_est)\n",
    "            elif mi_est == \"Shannon\":\n",
    "                Building_MI_matrices_mod.TC_FB_matrix_build_from_entropies(MI_matrix_fname,input1_data_array,bins_or_neighbors,mi_est)\n",
    "\n",
    "        t2 = time.time()\n",
    "        time_array[n] = t2-t1\n",
    "\n",
    "    #print(\"Run time = %.4f [sec]\" %(t2-t1)) # debug\n",
    "    print(time_array)\n",
    "    output_fname = \"Time_array_\" + MI_quantity_to_calc + \"_\" + mi_est + str(bins_or_neighbors) + \"_50genes_100to1k_perturb_fast.txt\"\n",
    "    np.savetxt(output_fname, time_array)"
   ]
  },
  {
   "cell_type": "code",
   "execution_count": 6,
   "metadata": {},
   "outputs": [
    {
     "name": "stderr",
     "output_type": "stream",
     "text": [
      "/home/local/WIN/lshacha1/Dropbox/Roberts/CODE_rsync/Mutual_Info_based_binning_module.py:29: RuntimeWarning: divide by zero encountered in log\n",
      "  product = hist2d/hist2d.sum()*np.log(hist2d/hist2d.sum())\n",
      "/home/local/WIN/lshacha1/Dropbox/Roberts/CODE_rsync/Mutual_Info_based_binning_module.py:29: RuntimeWarning: invalid value encountered in multiply\n",
      "  product = hist2d/hist2d.sum()*np.log(hist2d/hist2d.sum())\n",
      "/home/local/WIN/lshacha1/Dropbox/Roberts/CODE_rsync/Mutual_Info_based_binning_module.py:19: RuntimeWarning: divide by zero encountered in log\n",
      "  product = hist1dvar/hist1dvar.sum()*np.log(hist1dvar/hist1dvar.sum())\n",
      "/home/local/WIN/lshacha1/Dropbox/Roberts/CODE_rsync/Mutual_Info_based_binning_module.py:19: RuntimeWarning: invalid value encountered in multiply\n",
      "  product = hist1dvar/hist1dvar.sum()*np.log(hist1dvar/hist1dvar.sum())\n"
     ]
    },
    {
     "name": "stdout",
     "output_type": "stream",
     "text": [
      "done building MI2 matrix\n",
      "done building MI2 matrix\n",
      "[0.79788089 0.69489765]\n",
      "done building MI2 matrix\n",
      "done building MI2 matrix\n",
      "[0.53129888 0.65759754]\n",
      "done building MI2 matrix\n",
      "done building MI2 matrix\n",
      "[1.31429243 2.02751589]\n"
     ]
    }
   ],
   "source": [
    "### Change to folder where data will be saved\n",
    "path_to_data = os.path.expanduser('~/DATA/MI_comparison_FB_vs_KNN/')\n",
    "os.chdir(path_to_data)\n",
    "\n",
    "### Calculating time arrays for MI2 for the MI estimators: Shannon, KL, KSG\n",
    "time_array_per_MIestimator_and_MIquantity(\"Shannon\",\"MI2\")\n",
    "time_array_per_MIestimator_and_MIquantity(\"KL\",\"MI2\")\n",
    "time_array_per_MIestimator_and_MIquantity(\"KSG\",\"MI2\")"
   ]
  },
  {
   "cell_type": "code",
   "execution_count": 7,
   "metadata": {},
   "outputs": [
    {
     "name": "stderr",
     "output_type": "stream",
     "text": [
      "/home/local/WIN/lshacha1/Dropbox/Roberts/CODE_rsync/Mutual_Info_based_binning_module.py:40: RuntimeWarning: divide by zero encountered in log\n",
      "  product = hist3d/hist3d.sum()*np.log(hist3d/hist3d.sum())\n",
      "/home/local/WIN/lshacha1/Dropbox/Roberts/CODE_rsync/Mutual_Info_based_binning_module.py:40: RuntimeWarning: invalid value encountered in multiply\n",
      "  product = hist3d/hist3d.sum()*np.log(hist3d/hist3d.sum())\n"
     ]
    },
    {
     "name": "stdout",
     "output_type": "stream",
     "text": [
      "done building TC matrix\n",
      "done building TC matrix\n",
      "[12.3076086  12.83990264]\n",
      "done building TC matrix\n",
      "done building TC matrix\n",
      "[ 8.72145319 11.09620857]\n",
      "done building TC matrix\n",
      "done building TC matrix\n",
      "[22.02277803 36.81477785]\n"
     ]
    }
   ],
   "source": [
    "### Calculating time arrays for TC for the MI estimators: Shannon, KL, KSG\n",
    "time_array_per_MIestimator_and_MIquantity(\"Shannon\",\"TC\")\n",
    "time_array_per_MIestimator_and_MIquantity(\"KL\",\"TC\")\n",
    "time_array_per_MIestimator_and_MIquantity(\"KSG\",\"TC\")"
   ]
  }
 ],
 "metadata": {
  "kernelspec": {
   "display_name": "Python 3.8",
   "language": "python",
   "name": "python3"
  },
  "language_info": {
   "codemirror_mode": {
    "name": "ipython",
    "version": 3
   },
   "file_extension": ".py",
   "mimetype": "text/x-python",
   "name": "python",
   "nbconvert_exporter": "python",
   "pygments_lexer": "ipython3",
   "version": "3.8.9"
  }
 },
 "nbformat": 4,
 "nbformat_minor": 2
}
