{
 "cells": [
  {
   "cell_type": "code",
   "execution_count": null,
   "metadata": {},
   "outputs": [],
   "source": [
    "\"\"\"\n",
    "This script is intended to generate 10(0) replicates for each of the DREAM3/4 networks to check inference algo performence\n",
    "The pipeline works as follows:\n",
    "1) For each network kinetic model file (.xml)\n",
    "Repeat 10(0) times:\n",
    "2) GNW: generate expression data (it generate it in the app folder due to a bug)\n",
    "3) make a new subdirectory for replicate_X (including all parent directories)\n",
    "4) move expression data files to the network subdirectory\n",
    "5) Combine Steady-State expression data files to one file\n",
    "\n",
    "Written by: Lior Shachaf\n",
    "2020-11-09\n",
    "\n",
    "2021-07-20: added dream4 option, more comments and variables for path instead of hard-coding\n",
    "2021-07-30: Replaced the last bash block responding to appending all steady-state data file into one, with a python equivalent\n",
    "\"\"\""
   ]
  },
  {
   "cell_type": "markdown",
   "metadata": {},
   "source": [
    "### Instructions:\n",
    "<p>make sure settings.txt file in GNW is unchanged or set to default </p>\n",
    "<p>change dream3 or dream4 according to usage in 3 places in the notebook </p>\n",
    "<p>change \"targetpath\" to where you want to store the data </p>"
   ]
  },
  {
   "cell_type": "code",
   "execution_count": 1,
   "metadata": {},
   "outputs": [],
   "source": [
    "import os"
   ]
  },
  {
   "cell_type": "code",
   "execution_count": null,
   "metadata": {},
   "outputs": [],
   "source": [
    "# Change directory to where GNW is installed:\n",
    "#path_to_gnw = '/home/local/WIN/lshacha1/GNW/gnw-3.1.2b' # long path\n",
    "path_to_gnw = os.path.expanduser('~/GNW/gnw-3.1.2b')\n",
    "os.chdir(path_to_gnw)"
   ]
  },
  {
   "cell_type": "code",
   "execution_count": null,
   "metadata": {},
   "outputs": [],
   "source": [
    "%%bash\n",
    "path_to_dreamX_networks=\"~/GNW/gnw-3.1.2b/src/ch/epfl/lis/networks/dream4\"\n",
    "eval path_to_dreamX_networks=$path_to_dreamX_networks # to expand Tilde\n",
    "# iterating over all network XML files\n",
    "for file in ${path_to_dreamX_networks}/*;\n",
    "do\n",
    "echo $file;\n",
    "filename=$(basename $file .xml);\n",
    "targetpath=\"~/DATA/Networks/Replicates_for_network_inference/dream4\";\n",
    "eval targetpath=$targetpath # to expand Tilde\n",
    "# generating 10 replicates. If this is changed please update cell below as well\n",
    "for replicate in {1..10};\n",
    "do\n",
    "java -jar gnw-3.1.2b.jar --simulate -c settings.txt --input-net ${path_to_dreamX_networks}/${filename}.xml\n",
    "mkdir -p ${targetpath}/${filename}/rep_${replicate}/;\n",
    "mv ${filename}* ${targetpath}/${filename}/rep_${replicate}/;\n",
    "done;\n",
    "done;\n",
    "\n",
    "echo \"done\""
   ]
  },
  {
   "cell_type": "markdown",
   "metadata": {},
   "source": [
    "### Combine Steady-State expression data (wildtype, multifactorial, knockdowns, knockouts, dualknockouts) to one file"
   ]
  },
  {
   "cell_type": "code",
   "execution_count": 10,
   "metadata": {},
   "outputs": [
    {
     "name": "stdout",
     "output_type": "stream",
     "text": [
      "All done\n"
     ]
    }
   ],
   "source": [
    "\"\"\" iterate over all networks \n",
    "and for each network iterate over all replicates \n",
    "and for each replicate append the 5 steady-state \n",
    "data files into one file {Network name}_SS_all.tsv \n",
    "\"\"\"\n",
    "# Change to specific DREAM data folder containing the different network folders\n",
    "#os.chdir('/home/local/WIN/lshacha1/DATA/Networks/Replicates_for_network_inference/dream3/') # long path\n",
    "path_to_data = os.path.expanduser('~/DATA/Networks/Replicates_for_network_inference/dream4/')\n",
    "os.chdir(path_to_data)\n",
    "\n",
    "data_type_list = [\"wildtype\", \"multifactorial\", \"knockdowns\", \"knockouts\", \"dualknockouts\"]\n",
    "\n",
    "for network_name in os.listdir():\n",
    "    #if \"100_\" in network_name: # Debug\n",
    "     #   continue\n",
    "    \n",
    "    if os.path.isdir(network_name) == True:\n",
    "        os.chdir(str('./'+network_name))\n",
    "        \n",
    "        for replicate in os.listdir():\n",
    "\n",
    "            if os.path.isdir(replicate) == True:\n",
    "                os.chdir(str('./'+replicate))\n",
    "                \n",
    "                output_file_name = network_name + \"_SS_all.tsv\"\n",
    "                output_file = open(output_file_name,\"w\")\n",
    "                \n",
    "                for data_type in data_type_list:\n",
    "                    input_file = network_name + \"_\" + data_type + \".tsv\"\n",
    "                    in1 = open(input_file, \"r\")\n",
    "                    data1 = in1.readlines()\n",
    "                    in1.close()\n",
    "                    \n",
    "                    for line in data1:\n",
    "                        if \"G1\" in line:\n",
    "                            continue\n",
    "                        output_file.write(line)\n",
    "                        \n",
    "                output_file.close()\n",
    "                \n",
    "            os.chdir('../')\n",
    "        os.chdir('../')\n",
    "\n",
    "print(\"All done\")"
   ]
  },
  {
   "cell_type": "markdown",
   "metadata": {},
   "source": [
    "### Alternative method to generate unified data file using Bash"
   ]
  },
  {
   "cell_type": "code",
   "execution_count": null,
   "metadata": {},
   "outputs": [],
   "source": [
    "\"\"\"%%bash\n",
    "data_files=(wildtype multifactorial knockdowns knockouts dualknockouts)\n",
    "# iterate over all networks in the DREAM folder (assuming only network folders exist)\n",
    "for network_folder in *; \n",
    "do \n",
    "# iterate over 10 replicates\n",
    "for replicate in {1..10};\n",
    "do\n",
    "# iterate over 5 steady-state data files\n",
    "for m in {0..4}; \n",
    "do \n",
    "# for each specified data file => ignoring the header line and appending all the data to one file NETWORK_NAME_SS_all.tsv\n",
    "grep -v G1 ${network_folder}/rep_${replicate}/${network_folder}_${data_files[m]}.tsv >> ${network_folder}/rep_${replicate}/${network_folder}_SS_all.tsv; \n",
    "done; \n",
    "done;\n",
    "done;\"\"\""
   ]
  },
  {
   "cell_type": "markdown",
   "metadata": {},
   "source": [
    "### DRAFT"
   ]
  },
  {
   "cell_type": "code",
   "execution_count": null,
   "metadata": {},
   "outputs": [],
   "source": [
    "\"\"\"\n",
    "%%bash\n",
    "for file in /home/lshacha1/GNW/gnw-3.1.2b/src/ch/epfl/lis/networks/dream3/*\n",
    "do\n",
    "echo $file\n",
    "filename=$(basename $file .xml)\n",
    "targetpath=\"/home/local/WIN/lshacha1/DATA/Networks/Replicates_for_network_inference/dream3\"\n",
    "# generating 10 replicates. If this is changed please update cell below as well\n",
    "for replicate in {1..10}\n",
    "do\n",
    "mkdir ${targetpath}/${filename}/rep_${replicate}/\n",
    "cp $file ${targetpath}/${filename}/rep_${replicate}/${filename}.xml\n",
    "java -jar gnw-3.1.2b.jar --simulate -c settings.txt --input-net /home/local/WIN/lshacha1/DATA/Networks/Replicates_for_network_inference/dream3/$filename/rep_${replicate}/${filename}.xml\n",
    "mv ${filename}* ${targetpath}/${filename}/rep_${replicate}/\n",
    "done\n",
    "done\n",
    "\n",
    "echo \"done\"\n",
    "\"\"\""
   ]
  }
 ],
 "metadata": {
  "kernelspec": {
   "display_name": "Python 3.8",
   "language": "python",
   "name": "python3"
  },
  "language_info": {
   "codemirror_mode": {
    "name": "ipython",
    "version": 3
   },
   "file_extension": ".py",
   "mimetype": "text/x-python",
   "name": "python",
   "nbconvert_exporter": "python",
   "pygments_lexer": "ipython3",
   "version": "3.8.9"
  }
 },
 "nbformat": 4,
 "nbformat_minor": 2
}
